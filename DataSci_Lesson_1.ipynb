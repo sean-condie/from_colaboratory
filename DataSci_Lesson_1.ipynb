{
  "nbformat": 4,
  "nbformat_minor": 0,
  "metadata": {
    "colab": {
      "name": "Lesson_1.ipynb",
      "provenance": [],
      "authorship_tag": "ABX9TyPVO6IhexwIGIiT4F1kXikb",
      "include_colab_link": true
    },
    "kernelspec": {
      "name": "python3",
      "display_name": "Python 3"
    },
    "language_info": {
      "name": "python"
    }
  },
  "cells": [
    {
      "cell_type": "markdown",
      "metadata": {
        "id": "view-in-github",
        "colab_type": "text"
      },
      "source": [
        "<a href=\"https://colab.research.google.com/github/sean-condie/from_colaboratory/blob/main/DataSci_Lesson_1.ipynb\" target=\"_parent\"><img src=\"https://colab.research.google.com/assets/colab-badge.svg\" alt=\"Open In Colab\"/></a>"
      ]
    },
    {
      "cell_type": "markdown",
      "source": [
        "Imortant concepts:\n",
        "\n",
        "- dynamic variables\n",
        "- libraries"
      ],
      "metadata": {
        "id": "5memKivv0j5f"
      }
    },
    {
      "cell_type": "code",
      "source": [
        "#dynamic variables\n",
        "this = 10\n",
        "this = 10.0\n",
        "this = \"hello\"\n",
        "this = True"
      ],
      "metadata": {
        "id": "BU1xWTYj1o_j"
      },
      "execution_count": null,
      "outputs": []
    },
    {
      "cell_type": "code",
      "source": [
        "#libraries\n",
        "import numpy as np\n",
        "\n",
        "data = np.array([(1,2),(3,4)])\n",
        "data\n"
      ],
      "metadata": {
        "id": "CvD1DtSw12Np"
      },
      "execution_count": null,
      "outputs": []
    },
    {
      "cell_type": "markdown",
      "source": [
        "What is Data Science?\n",
        "\n",
        "Well, we need some data...\n",
        "\n",
        "Thankfully we have lots we can use for free."
      ],
      "metadata": {
        "id": "pRDSH5jC52xW"
      }
    },
    {
      "cell_type": "code",
      "source": [
        "#import the library of data\n",
        "from sklearn import datasets\n",
        "\n",
        "#load the data and rename it as \"data\"\n",
        "iris = datasets.load_iris()\n"
      ],
      "metadata": {
        "id": "NeG5WRp35-4t"
      },
      "execution_count": null,
      "outputs": []
    },
    {
      "cell_type": "markdown",
      "source": [
        "Now we can do interesting things with that data:\n",
        "\n",
        "Lets display it first"
      ],
      "metadata": {
        "id": "EDS8y6P_KAVL"
      }
    },
    {
      "cell_type": "code",
      "source": [
        "iris"
      ],
      "metadata": {
        "id": "ua-RYBbkKJ8F"
      },
      "execution_count": null,
      "outputs": []
    },
    {
      "cell_type": "markdown",
      "source": [
        "that doesn't look very nice...\n",
        "\n",
        "lets look at what iris is stored as."
      ],
      "metadata": {
        "id": "BPGIofMuLL_v"
      }
    },
    {
      "cell_type": "code",
      "source": [
        "type(iris)"
      ],
      "metadata": {
        "colab": {
          "base_uri": "https://localhost:8080/"
        },
        "id": "d8sz3bkrLTVj",
        "outputId": "80d31f8f-bb30-44a4-d47c-a8a9be374c03"
      },
      "execution_count": null,
      "outputs": [
        {
          "output_type": "execute_result",
          "data": {
            "text/plain": [
              "sklearn.utils.Bunch"
            ]
          },
          "metadata": {},
          "execution_count": 8
        }
      ]
    },
    {
      "cell_type": "markdown",
      "source": [
        "A 'Bunch' is a proprietary form of data that isn't much use to us. But if we look closely, there is a property of the 'bunch' that is of interest to us.\n",
        "\n",
        "We access properties of objects the same way as in C#, with the '.'\n",
        "\n",
        "For example, iris.data will return only the data property from the 'Bunch'"
      ],
      "metadata": {
        "id": "tGLy_glKLheY"
      }
    },
    {
      "cell_type": "code",
      "source": [
        "iris.data"
      ],
      "metadata": {
        "id": "L5ZMsQusMAGa"
      },
      "execution_count": null,
      "outputs": []
    },
    {
      "cell_type": "markdown",
      "source": [
        "Thats better but still not great. We want it to look nicer!\n",
        "\n",
        "In data science there are two packages or libraries we will use in almost every project: numpy and pandas"
      ],
      "metadata": {
        "id": "_o7LvAgiMK--"
      }
    },
    {
      "cell_type": "code",
      "source": [
        "import numpy as np\n",
        "import pandas as pd"
      ],
      "metadata": {
        "id": "e5qrrfC1MYkf"
      },
      "execution_count": null,
      "outputs": []
    },
    {
      "cell_type": "markdown",
      "source": [
        "From before lets look at what iris.data is stored as..."
      ],
      "metadata": {
        "id": "fbs9Mia4MgSg"
      }
    },
    {
      "cell_type": "code",
      "source": [
        "type(iris.data)"
      ],
      "metadata": {
        "id": "512Q3-qEMqxp"
      },
      "execution_count": null,
      "outputs": []
    },
    {
      "cell_type": "markdown",
      "source": [
        "We see that it is stored as a numpy array which is great! \n",
        "\n",
        "Analogy:\n",
        "\n",
        "Think of numpy as the ingredients of a meal, then pandas lets us arrange those ingredients into the meal.\n",
        "\n",
        "So iris.data is our ingredient, now we need to turn it into a meal with pandas"
      ],
      "metadata": {
        "id": "beFJMjHDMs34"
      }
    },
    {
      "cell_type": "code",
      "source": [
        "data_frame = pd.DataFrame(data=iris.data, columns=iris.feature_names)\n",
        "data_frame"
      ],
      "metadata": {
        "id": "NHZYuPIENmXA"
      },
      "execution_count": null,
      "outputs": []
    },
    {
      "cell_type": "markdown",
      "source": [
        "It's beautiful!"
      ],
      "metadata": {
        "id": "eJGt2BUnN5W7"
      }
    }
  ]
}